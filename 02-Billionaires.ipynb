{
 "cells": [
  {
   "attachments": {},
   "cell_type": "markdown",
   "metadata": {},
   "source": [
    "# Homework 5, Part 2: Answer questions with pandas\n",
    "\n",
    "**Use the Excel file to answer the following questions.** This is a little more typical of what your data exploration will look like with pandas."
   ]
  },
  {
   "attachments": {},
   "cell_type": "markdown",
   "metadata": {},
   "source": [
    "## 0) Setup\n",
    "\n",
    "Import pandas **with the correct name** ."
   ]
  },
  {
   "cell_type": "code",
   "execution_count": 2,
   "metadata": {},
   "outputs": [],
   "source": [
    "import pandas as pd"
   ]
  },
  {
   "attachments": {},
   "cell_type": "markdown",
   "metadata": {},
   "source": [
    "## 1) Reading in an Excel file\n",
    "\n",
    "Use pandas to read in the `richpeople.xlsx` Excel file, saving it as a variable with the name we'll always use for a dataframe.\n",
    "\n",
    "> **TIP:** You will use `read_excel` instead of `read_csv`. Trying `read_excel` the first time will probably not work, you'll get an error message. Be sure to read the error carefully: *you probably need to install a new library before it will work, and the error tells you what the library is named*."
   ]
  },
  {
   "cell_type": "code",
   "execution_count": 3,
   "metadata": {},
   "outputs": [],
   "source": [
    "df = pd.read_excel('richpeople.xlsx')"
   ]
  },
  {
   "attachments": {},
   "cell_type": "markdown",
   "metadata": {},
   "source": [
    "## 2) Checking your data\n",
    "\n",
    "Display the number of rows and columns in your data. Also display the names and data types of each column."
   ]
  },
  {
   "cell_type": "code",
   "execution_count": 4,
   "metadata": {},
   "outputs": [
    {
     "name": "stdout",
     "output_type": "stream",
     "text": [
      "      year                          name  rank           citizenship  \\\n",
      "0     2014          A. Jerrold Perenchio   663         United States   \n",
      "1     2014            Abdulla Al Futtaim   687  United Arab Emirates   \n",
      "2     2014  Abdulla bin Ahmad Al Ghurair   305  United Arab Emirates   \n",
      "3     2014             Abdullah Al Rajhi   731          Saudi Arabia   \n",
      "4     2014              Abdulsamad Rabiu  1372               Nigeria   \n",
      "...    ...                           ...   ...                   ...   \n",
      "1648  2014                     Zhu Yicai  1154                 China   \n",
      "1649  2014                 Ziyad Manasir   609                Russia   \n",
      "1650  2014            Ziyaudin Magomedov  1372                Russia   \n",
      "1651  2014                  Zong Qinghou    94                 China   \n",
      "1652  2014            Zygmunt Solorz-Zak   446                Poland   \n",
      "\n",
      "     countrycode  networthusbillion   selfmade              typeofwealth  \\\n",
      "0            USA                2.6  self-made                 executive   \n",
      "1            ARE                2.5  inherited                 inherited   \n",
      "2            ARE                4.8  inherited                 inherited   \n",
      "3            SAU                2.4  self-made         self-made finance   \n",
      "4            NGA                1.2  self-made       founder non-finance   \n",
      "...          ...                ...        ...                       ...   \n",
      "1648         CHN                1.5  self-made         self-made finance   \n",
      "1649         RUS                2.8  self-made  privatized and resources   \n",
      "1650         RUS                1.2  self-made  privatized and resources   \n",
      "1651         CHN               11.6  self-made       founder non-finance   \n",
      "1652         POL                3.5  self-made       founder non-finance   \n",
      "\n",
      "     gender   age  ...    relationshiptocompany foundingdate gdpcurrentus  \\\n",
      "0      male  83.0  ...  former chairman and CEO       1955.0          NaN   \n",
      "1      male   NaN  ...                 relation       1930.0          NaN   \n",
      "2      male   NaN  ...                 relation       1960.0          NaN   \n",
      "3      male   NaN  ...                  founder       1957.0          NaN   \n",
      "4      male  54.0  ...                  founder       1988.0          NaN   \n",
      "...     ...   ...  ...                      ...          ...          ...   \n",
      "1648   male  49.0  ...                  founder       1993.0          NaN   \n",
      "1649   male  48.0  ...                  founder       1992.0          NaN   \n",
      "1650   male  45.0  ...                  founder       2004.0          NaN   \n",
      "1651   male  68.0  ...                  founder       1987.0          NaN   \n",
      "1652   male  57.0  ...                  founder       1992.0          NaN   \n",
      "\n",
      "                 sourceofwealth  \\\n",
      "0         television, Univision   \n",
      "1     auto dealers, investments   \n",
      "2                   diversified   \n",
      "3                       banking   \n",
      "4          sugar, flour, cement   \n",
      "...                         ...   \n",
      "1648                diversified   \n",
      "1649               construction   \n",
      "1650                  port, gas   \n",
      "1651                  beverages   \n",
      "1652            TV broadcasting   \n",
      "\n",
      "                                               notes  notes2  \\\n",
      "0     represented Marlon Brando and Elizabeth Taylor     NaN   \n",
      "1       company split between him and cousin in 2000     NaN   \n",
      "2                              inherited from father     NaN   \n",
      "3                                                NaN     NaN   \n",
      "4                                                NaN     NaN   \n",
      "...                                              ...     ...   \n",
      "1648                                             NaN     NaN   \n",
      "1649                         close ties with Gazprom     NaN   \n",
      "1650                                             NaN     NaN   \n",
      "1651                                             NaN     NaN   \n",
      "1652                                             NaN     NaN   \n",
      "\n",
      "                                                 source  \\\n",
      "0          http://en.wikipedia.org/wiki/Jerry_Perenchio   \n",
      "1         http://en.wikipedia.org/wiki/Al-Futtaim_Group   \n",
      "2         http://en.wikipedia.org/wiki/Al-Ghurair_Group   \n",
      "3            http://en.wikipedia.org/wiki/Al-Rajhi_Bank   \n",
      "4       http://www.forbes.com/profile/abdulsamad-rabiu/   \n",
      "...                                                 ...   \n",
      "1648           http://www.forbes.com/profile/zhu-yicai/   \n",
      "1649       http://www.forbes.com/profile/ziyad-manasir/   \n",
      "1650         http://www.summagroup.ru/about/history/en/   \n",
      "1651          http://en.wikipedia.org/wiki/Zong_Qinghou   \n",
      "1652  http://en.wikipedia.org/wiki/Zygmunt_Solorz-%C...   \n",
      "\n",
      "                                               source_2  \\\n",
      "0     http://www.forbes.com/profile/a-jerrold-perenc...   \n",
      "1     http://www.al-futtaim.ae/content/groupProfile.asp   \n",
      "2         http://www.alghurair.com/about-us/our-history   \n",
      "3     http://www.alrajhibank.com.sa/ar/investor-rela...   \n",
      "4     http://www.bloomberg.com/research/stocks/priva...   \n",
      "...                                                 ...   \n",
      "1648                                                NaN   \n",
      "1649  http://www.themoscowtimes.com/business/article...   \n",
      "1650  http://www.forbes.com/profile/ziyaudin-magomedov/   \n",
      "1651  http://mic.com/articles/39659/zong-qinghou-chi...   \n",
      "1652  No Mob Bosses in This Legal Strategy The New Y...   \n",
      "\n",
      "                                               source_3 source_4  \n",
      "0     COLUMN ONE; A Hollywood Player Who Owns the Ga...      NaN  \n",
      "1                                                   NaN      NaN  \n",
      "2                                                   NaN      NaN  \n",
      "3     http://www.alrajhibank.com.sa/ar/about-us/page...      NaN  \n",
      "4                                                   NaN      NaN  \n",
      "...                                                 ...      ...  \n",
      "1648                                                NaN      NaN  \n",
      "1649                                                NaN      NaN  \n",
      "1650                                                NaN      NaN  \n",
      "1651                                                NaN      NaN  \n",
      "1652                                                NaN      NaN  \n",
      "\n",
      "[1653 rows x 30 columns]\n",
      "1653\n"
     ]
    }
   ],
   "source": [
    "print(df)\n",
    "print(len(df))"
   ]
  },
  {
   "cell_type": "code",
   "execution_count": 5,
   "metadata": {},
   "outputs": [
    {
     "name": "stdout",
     "output_type": "stream",
     "text": [
      "Number of rows 1653\n",
      "Number of columns 30\n"
     ]
    }
   ],
   "source": [
    "num_rows, num_columns = df.shape\n",
    "\n",
    "print(\"Number of rows\", num_rows)\n",
    "print(\"Number of columns\", num_columns)\n"
   ]
  },
  {
   "cell_type": "code",
   "execution_count": 6,
   "metadata": {},
   "outputs": [
    {
     "name": "stdout",
     "output_type": "stream",
     "text": [
      "Column year\n",
      "Data Type: int64\n",
      "\n",
      "Column name\n",
      "Data Type: object\n",
      "\n",
      "Column rank\n",
      "Data Type: int64\n",
      "\n",
      "Column citizenship\n",
      "Data Type: object\n",
      "\n",
      "Column countrycode\n",
      "Data Type: object\n",
      "\n",
      "Column networthusbillion\n",
      "Data Type: float64\n",
      "\n",
      "Column selfmade\n",
      "Data Type: object\n",
      "\n",
      "Column typeofwealth\n",
      "Data Type: object\n",
      "\n",
      "Column gender\n",
      "Data Type: object\n",
      "\n",
      "Column age\n",
      "Data Type: float64\n",
      "\n",
      "Column industry\n",
      "Data Type: object\n",
      "\n",
      "Column IndustryAggregates\n",
      "Data Type: object\n",
      "\n",
      "Column region\n",
      "Data Type: object\n",
      "\n",
      "Column north\n",
      "Data Type: int64\n",
      "\n",
      "Column politicalconnection\n",
      "Data Type: float64\n",
      "\n",
      "Column founder\n",
      "Data Type: int64\n",
      "\n",
      "Column generationofinheritance\n",
      "Data Type: object\n",
      "\n",
      "Column sector\n",
      "Data Type: object\n",
      "\n",
      "Column company\n",
      "Data Type: object\n",
      "\n",
      "Column companytype\n",
      "Data Type: object\n",
      "\n",
      "Column relationshiptocompany\n",
      "Data Type: object\n",
      "\n",
      "Column foundingdate\n",
      "Data Type: float64\n",
      "\n",
      "Column gdpcurrentus\n",
      "Data Type: float64\n",
      "\n",
      "Column sourceofwealth\n",
      "Data Type: object\n",
      "\n",
      "Column notes\n",
      "Data Type: object\n",
      "\n",
      "Column notes2\n",
      "Data Type: object\n",
      "\n",
      "Column source\n",
      "Data Type: object\n",
      "\n",
      "Column source_2\n",
      "Data Type: object\n",
      "\n",
      "Column source_3\n",
      "Data Type: object\n",
      "\n",
      "Column source_4\n",
      "Data Type: object\n",
      "\n"
     ]
    }
   ],
   "source": [
    "column_names = df.columns\n",
    "data_types = df.dtypes\n",
    "\n",
    "for column_name, data_type in zip(column_names, data_types):\n",
    "    print(\"Column\", column_name)\n",
    "    print(\"Data Type:\", data_type)\n",
    "    print()"
   ]
  },
  {
   "attachments": {},
   "cell_type": "markdown",
   "metadata": {},
   "source": [
    "## 3) Who are the top 10 richest billionaires? Use the `networthusbillion` column."
   ]
  },
  {
   "cell_type": "code",
   "execution_count": 10,
   "metadata": {},
   "outputs": [
    {
     "name": "stdout",
     "output_type": "stream",
     "text": [
      "      year              name  rank    citizenship countrycode  \\\n",
      "184   2014        Bill Gates     1  United States         USA   \n",
      "226   2014  Carlos Slim Helu     2         Mexico         MEX   \n",
      "79    2014    Amancio Ortega     3          Spain         ESP   \n",
      "1562  2014    Warren Buffett     4  United States         USA   \n",
      "862   2014     Larry Ellison     5  United States         USA   \n",
      "339   2014        David Koch     6  United States         USA   \n",
      "247   2014      Charles Koch     6  United States         USA   \n",
      "1364  2014   Sheldon Adelson     8  United States         USA   \n",
      "280   2014    Christy Walton     9  United States         USA   \n",
      "724   2014        Jim Walton    10  United States         USA   \n",
      "\n",
      "      networthusbillion   selfmade              typeofwealth  gender   age  \\\n",
      "184                76.0  self-made       founder non-finance    male  58.0   \n",
      "226                72.0  self-made  privatized and resources    male  74.0   \n",
      "79                 64.0  self-made       founder non-finance    male  77.0   \n",
      "1562               58.2  self-made       founder non-finance    male  83.0   \n",
      "862                48.0  self-made       founder non-finance    male  69.0   \n",
      "339                40.0  inherited                 inherited    male  73.0   \n",
      "247                40.0  inherited                 inherited    male  78.0   \n",
      "1364               38.0  self-made         self-made finance    male  80.0   \n",
      "280                36.7  inherited                 inherited  female  59.0   \n",
      "724                34.7  inherited                 inherited    male  66.0   \n",
      "\n",
      "      ... relationshiptocompany foundingdate gdpcurrentus      sourceofwealth  \\\n",
      "184   ...               founder       1975.0          NaN           Microsoft   \n",
      "226   ...               founder       1990.0          NaN             telecom   \n",
      "79    ...               founder       1975.0          NaN              retail   \n",
      "1562  ...               founder       1839.0          NaN  Berkshire Hathaway   \n",
      "862   ...               founder       1977.0          NaN              Oracle   \n",
      "339   ...              relation       1940.0          NaN         diversified   \n",
      "247   ...              relation       1940.0          NaN         diversified   \n",
      "1364  ...               founder       1952.0          NaN             casinos   \n",
      "280   ...              relation       1962.0          NaN            Wal-Mart   \n",
      "724   ...              relation       1962.0          NaN            Wal-Mart   \n",
      "\n",
      "                      notes  notes2  \\\n",
      "184                     NaN     NaN   \n",
      "226                     NaN     NaN   \n",
      "79                      NaN     NaN   \n",
      "1562                    NaN     NaN   \n",
      "862                     NaN     NaN   \n",
      "339   inherited from father     NaN   \n",
      "247   inherited from father     NaN   \n",
      "1364                    NaN     NaN   \n",
      "280                   widow     NaN   \n",
      "724   inherited from father     NaN   \n",
      "\n",
      "                                                 source  \\\n",
      "184           http://www.forbes.com/profile/bill-gates/   \n",
      "226   http://www.ozy.com/provocateurs/carlos-slims-w...   \n",
      "79        http://www.forbes.com/profile/amancio-ortega/   \n",
      "1562  http://www.forbes.com/lists/2009/10/billionair...   \n",
      "862        http://www.forbes.com/profile/larry-ellison/   \n",
      "339   http://www.kochind.com/About_Koch/History_Time...   \n",
      "247   http://www.kochind.com/About_Koch/History_Time...   \n",
      "1364     http://www.forbes.com/profile/sheldon-adelson/   \n",
      "280       http://www.forbes.com/profile/christy-walton/   \n",
      "724           http://www.forbes.com/profile/jim-walton/   \n",
      "\n",
      "                                               source_2 source_3 source_4  \n",
      "184                                                 NaN      NaN      NaN  \n",
      "226                                                 NaN      NaN      NaN  \n",
      "79                                                  NaN      NaN      NaN  \n",
      "1562  http://www.forbes.com/companies/berkshire-hath...      NaN      NaN  \n",
      "862   http://www.businessinsider.com/how-larry-ellis...      NaN      NaN  \n",
      "339                                                 NaN      NaN      NaN  \n",
      "247                                                 NaN      NaN      NaN  \n",
      "1364  http://lasvegassun.com/news/1996/nov/26/rat-pa...      NaN      NaN  \n",
      "280                                                 NaN      NaN      NaN  \n",
      "724                                                 NaN      NaN      NaN  \n",
      "\n",
      "[10 rows x 30 columns]\n"
     ]
    }
   ],
   "source": [
    "df2 = df.sort_values('networthusbillion', ascending=False)\n",
    "\n",
    "print(df2.head(10))"
   ]
  },
  {
   "attachments": {},
   "cell_type": "markdown",
   "metadata": {},
   "source": [
    "## 4a) How many male billionaires are there compared to the number of female billionares?\n",
    "\n",
    "> **TIP:** The last part uses `groupby`, but the count/percent part does not.\n",
    "> **TIP:** When I say \"average,\" you can pick what kind of average you use."
   ]
  },
  {
   "cell_type": "code",
   "execution_count": 12,
   "metadata": {},
   "outputs": [
    {
     "name": "stdout",
     "output_type": "stream",
     "text": [
      "gender\n",
      "female     180\n",
      "male      1473\n",
      "Name: gender, dtype: int64\n"
     ]
    }
   ],
   "source": [
    "gender_counts = df[df['gender'].isin(['female', 'male'])].groupby('gender')['gender'].count()\n",
    "\n",
    "print(gender_counts)"
   ]
  },
  {
   "attachments": {},
   "cell_type": "markdown",
   "metadata": {},
   "source": [
    "## 4b) What percent is that?"
   ]
  },
  {
   "cell_type": "code",
   "execution_count": 13,
   "metadata": {},
   "outputs": [
    {
     "name": "stdout",
     "output_type": "stream",
     "text": [
      "10.88929219600726\n"
     ]
    }
   ],
   "source": [
    "female_percentage = (df['gender'].value_counts(normalize=True) * 100)['female']\n",
    "\n",
    "print(female_percentage)"
   ]
  },
  {
   "attachments": {},
   "cell_type": "markdown",
   "metadata": {},
   "source": [
    "## 4c) Is the average wealth different for a female billionaire as compared to a male billionaire?"
   ]
  },
  {
   "cell_type": "code",
   "execution_count": 14,
   "metadata": {},
   "outputs": [
    {
     "name": "stdout",
     "output_type": "stream",
     "text": [
      "2.3\n",
      "2.1\n"
     ]
    }
   ],
   "source": [
    "females = df[df['gender'] == 'female']\n",
    "\n",
    "males = df[df['gender'] == 'male']\n",
    "\n",
    "\n",
    "average_wealth_female = females['networthusbillion'].median()\n",
    "print(average_wealth_female)\n",
    "\n",
    "average_wealth_male = males['networthusbillion'].median()\n",
    "print(average_wealth_male)\n"
   ]
  },
  {
   "cell_type": "code",
   "execution_count": null,
   "metadata": {},
   "outputs": [],
   "source": []
  },
  {
   "cell_type": "code",
   "execution_count": null,
   "metadata": {},
   "outputs": [],
   "source": []
  },
  {
   "attachments": {},
   "cell_type": "markdown",
   "metadata": {},
   "source": [
    "## 5a) What is the most common source/type of wealth?"
   ]
  },
  {
   "cell_type": "code",
   "execution_count": 15,
   "metadata": {},
   "outputs": [
    {
     "name": "stdout",
     "output_type": "stream",
     "text": [
      "typeofwealth\n",
      "inherited                   506\n",
      "founder non-finance         467\n",
      "self-made finance           344\n",
      "privatized and resources    192\n",
      "executive                   142\n",
      "Name: count, dtype: int64\n",
      "typeofwealth\n",
      "inherited    506\n",
      "Name: count, dtype: int64\n"
     ]
    }
   ],
   "source": [
    "print(df['typeofwealth'].value_counts())\n",
    "\n",
    "print(df['typeofwealth'].value_counts().head(1))\n",
    "\n",
    "\n",
    "#wealth_source = data['typesofwealth'].value_counts()\n",
    "\n",
    "\n",
    "#print(wealth_source)\n"
   ]
  },
  {
   "attachments": {},
   "cell_type": "markdown",
   "metadata": {},
   "source": [
    "## 5b) Is the most common source/type of wealth different between men and women?\n",
    "\n",
    "> **TIP:** You know how to `groupby` and you know how to count how many times a value is in a column. Can you put them together???\n",
    ">\n",
    "> **TIP:** Use percentages for this, it makes it a lot more readable."
   ]
  },
  {
   "cell_type": "code",
   "execution_count": 16,
   "metadata": {},
   "outputs": [
    {
     "name": "stdout",
     "output_type": "stream",
     "text": [
      "typeofwealth\n",
      "inherited                   142\n",
      "founder non-finance          21\n",
      "self-made finance             6\n",
      "executive                     6\n",
      "privatized and resources      5\n",
      "Name: count, dtype: int64\n",
      "typeofwealth\n",
      "founder non-finance         446\n",
      "inherited                   364\n",
      "self-made finance           338\n",
      "privatized and resources    187\n",
      "executive                   136\n",
      "Name: count, dtype: int64\n",
      "gender  typeofwealth            \n",
      "female  inherited                   142\n",
      "        founder non-finance          21\n",
      "        executive                     6\n",
      "        self-made finance             6\n",
      "        privatized and resources      5\n",
      "male    founder non-finance         446\n",
      "        inherited                   364\n",
      "        self-made finance           338\n",
      "        privatized and resources    187\n",
      "        executive                   136\n",
      "Name: count, dtype: int64\n",
      "gender\n",
      "male      1473\n",
      "female     180\n",
      "Name: count, dtype: int64\n",
      "Most common wealth type for men: founder non-finance\n",
      "Percentage for most common wealth type among men: 30.278343516632724 %\n",
      "Most common wealth type for women: inherited\n",
      "Percentage for most common wealth type among women: 78.88888888888889 %\n"
     ]
    }
   ],
   "source": [
    "print(females['typeofwealth'].value_counts())\n",
    "\n",
    "print(males['typeofwealth'].value_counts())\n",
    "\n",
    "wealth_counts = df.groupby('gender')['typeofwealth'].value_counts()\n",
    "print(wealth_counts)\n",
    "\n",
    "gender_counts = df['gender'].value_counts()\n",
    "print(gender_counts)\n",
    "\n",
    "\n",
    "most_common_wealth_type_for_men = wealth_counts.loc['male'].idxmax()\n",
    "men_percentage = (wealth_counts.loc['male'] / gender_counts.loc['male']) * 100\n",
    "\n",
    "most_common_wealth_type_for_women = wealth_counts.loc['female'].idxmax()\n",
    "women_percentage = (wealth_counts.loc['female'] / gender_counts.loc['female']) * 100\n",
    "\n",
    "\n",
    "print(\"Most common wealth type for men:\", most_common_wealth_type_for_men)\n",
    "print(\"Percentage for most common wealth type among men:\", men_percentage[most_common_wealth_type_for_men], \"%\")\n",
    "print(\"Most common wealth type for women:\", most_common_wealth_type_for_women)\n",
    "print(\"Percentage for most common wealth type among women:\", women_percentage[most_common_wealth_type_for_women], \"%\")"
   ]
  },
  {
   "cell_type": "code",
   "execution_count": null,
   "metadata": {},
   "outputs": [],
   "source": []
  },
  {
   "attachments": {},
   "cell_type": "markdown",
   "metadata": {},
   "source": [
    "## 6) What companies have the most billionaires? Graph the top 5 as a horizontal bar graph.\n",
    "\n",
    "> **TIP:** First find the answer to the question, then just try to throw `.plot()` on the end\n",
    ">\n",
    "> **TIP:** You can use `.head()` on *anything*, not just your basic `df`\n",
    ">\n",
    "> **TIP:** You might feel like you should use `groupby`, but don't! There's an easier way to count.\n",
    ">\n",
    "> **TIP:** Make the largest bar be at the top of the graph\n",
    ">\n",
    "> **TIP:** If your chart seems... weird, think about where in the process you're sorting vs using `head`"
   ]
  },
  {
   "cell_type": "code",
   "execution_count": 17,
   "metadata": {},
   "outputs": [
    {
     "data": {
      "image/png": "[encoded data removed]",
      "text/plain": [
       "<Figure size 640x480 with 1 Axes>"
      ]
     },
     "metadata": {},
     "output_type": "display_data"
    }
   ],
   "source": [
    "import matplotlib.pyplot as plt\n",
    "\n",
    "# Group the data by company and count occurrences\n",
    "company_counts = df['company'].value_counts().head(5)\n",
    "\n",
    "#sort\n",
    "company_counts = company_counts.sort_values()\n",
    "\n",
    "# Create a horizontal bar graph of the top 5 companies\n",
    "company_counts.plot(kind='barh')\n",
    "\n",
    "plt.xlabel('Number of Billionaires')\n",
    "plt.ylabel('Company')\n",
    "plt.title('Top 5 Companies with the Most Billionaires')\n",
    "\n",
    "plt.show()"
   ]
  },
  {
   "attachments": {},
   "cell_type": "markdown",
   "metadata": {},
   "source": [
    "## 7) How much money do these top 5 billionaires have in total?"
   ]
  },
  {
   "cell_type": "code",
   "execution_count": 49,
   "metadata": {},
   "outputs": [
    {
     "name": "stdout",
     "output_type": "stream",
     "text": [
      "318.2 billion\n"
     ]
    }
   ],
   "source": [
    "sorted_df_wealth = data.sort_values('networthusbillion', ascending=False)\n",
    "\n",
    "top_5_billionaires = sorted_df_wealth.head(5)\n",
    "total_wealth_top_5 = top_5_billionaires['networthusbillion'].sum()\n",
    "\n",
    "print(total_wealth_top_5,\"billion\")\n"
   ]
  },
  {
   "attachments": {},
   "cell_type": "markdown",
   "metadata": {},
   "source": [
    "## 8) What are the top 10 countries with the most money held by billionaires?\n",
    "\n",
    "I am **not** asking which country has the most billionaires - this is **total amount of money per country.**\n",
    "\n",
    "> **TIP:** Think about it in steps - \"I want them organized by country,\" \"I want their net worth,\" \"I want to add it all up,\" and \"I want 10 of them.\" Just chain it all together."
   ]
  },
  {
   "cell_type": "code",
   "execution_count": 55,
   "metadata": {},
   "outputs": [
    {
     "name": "stdout",
     "output_type": "stream",
     "text": [
      "countrycode\n",
      "USA    2322.4\n",
      "RUS     422.5\n",
      "DEU     401.4\n",
      "CHN     375.8\n",
      "FRA     235.3\n",
      "HKG     213.7\n",
      "BRA     192.2\n",
      "IND     191.9\n",
      "ITA     158.1\n",
      "GBR     152.0\n",
      "Name: networthusbillion, dtype: float64\n",
      "Top 10 countries by total wealth:\n",
      "countrycode\n",
      "USA    2322.4\n",
      "RUS     422.5\n",
      "DEU     401.4\n",
      "CHN     375.8\n",
      "FRA     235.3\n",
      "HKG     213.7\n",
      "BRA     192.2\n",
      "IND     191.9\n",
      "ITA     158.1\n",
      "GBR     152.0\n",
      "Name: networthusbillion, dtype: float64\n"
     ]
    }
   ],
   "source": [
    "print(df.groupby('countrycode')['networthusbillion'].sum().sort_values(ascending=False).head(10))\n",
    "\n",
    "# Group country by wealth and get sum\n",
    "country_wealth = df.groupby('countrycode')['networthusbillion'].sum()\n",
    "\n",
    "# Sort the country wealth in descending order\n",
    "sorted_country_wealth = country_wealth.sort_values(ascending=False)\n",
    "\n",
    "# Select the top 10 countries by total wealth\n",
    "top_10_countries = sorted_country_wealth.head(10)\n",
    "\n",
    "print(\"Top 10 countries by total wealth:\")\n",
    "print(top_10_countries)"
   ]
  },
  {
   "attachments": {},
   "cell_type": "markdown",
   "metadata": {},
   "source": [
    "## 9a) How old is an average billionaire?"
   ]
  },
  {
   "attachments": {},
   "cell_type": "markdown",
   "metadata": {},
   "source": []
  },
  {
   "cell_type": "code",
   "execution_count": 56,
   "metadata": {},
   "outputs": [
    {
     "name": "stdout",
     "output_type": "stream",
     "text": [
      "Average age of billionaires: 63.34213836477988\n"
     ]
    }
   ],
   "source": [
    "average_age = data['age'].mean()\n",
    "\n",
    "print(\"Average age of billionaires:\", average_age)"
   ]
  },
  {
   "attachments": {},
   "cell_type": "markdown",
   "metadata": {},
   "source": [
    "## 9b) How old are self-made billionaires compared to non self-made billionaires? "
   ]
  },
  {
   "cell_type": "code",
   "execution_count": 87,
   "metadata": {},
   "outputs": [
    {
     "name": "stdout",
     "output_type": "stream",
     "text": [
      "selfmade\n",
      "inherited    64.962185\n",
      "self-made    62.625899\n",
      "Name: age, dtype: float64\n"
     ]
    }
   ],
   "source": [
    "print(df.groupby('selfmade')['age'].mean())\n",
    "\n",
    "#print(df.groupby('age').mean())"
   ]
  },
  {
   "cell_type": "code",
   "execution_count": null,
   "metadata": {},
   "outputs": [],
   "source": []
  },
  {
   "attachments": {},
   "cell_type": "markdown",
   "metadata": {},
   "source": [
    "## 10a) Who are the three youngest billionaires? Who are the three oldest?"
   ]
  },
  {
   "cell_type": "code",
   "execution_count": 115,
   "metadata": {},
   "outputs": [
    {
     "name": "stdout",
     "output_type": "stream",
     "text": [
      "                  name   age\n",
      "1172       Perenna Kei  24.0\n",
      "397   Dustin Moskovitz  29.0\n",
      "1004   Mark Zuckerberg  29.0\n",
      "                       name   age\n",
      "343  David Rockefeller, Sr.  98.0\n",
      "816           Karl Wlaschek  96.0\n",
      "836          Kirk Kerkorian  96.0\n"
     ]
    }
   ],
   "source": [
    "#youngest\n",
    "# print(df.sort_values('age').head(3))\n",
    "# print(df.sort_values('age').head(3)['name', 'age'])\n",
    "\n",
    "print(df.sort_values('age').head(3)[['name', 'age']])\n",
    "\n",
    "#oldest\n",
    "print(df.sort_values('age', ascending=False).head(3)[['name', 'age']])\n",
    "# type(df)\n"
   ]
  },
  {
   "attachments": {},
   "cell_type": "markdown",
   "metadata": {},
   "source": [
    "## 10b) Make a graph of the distribution of ages.\n",
    "\n",
    "> **TIP:** You use `.plot()` to graph values in a column independently, but `.hist()` to draw a [histogram](https://www.mathsisfun.com/data/histograms.html) of the distribution of their values"
   ]
  },
  {
   "cell_type": "code",
   "execution_count": 90,
   "metadata": {},
   "outputs": [
    {
     "data": {
      "text/plain": [
       "(array([  8.,  18., 131., 250., 284., 336., 252., 186., 104.,  21.]),\n",
       " array([24. , 31.4, 38.8, 46.2, 53.6, 61. , 68.4, 75.8, 83.2, 90.6, 98. ]),\n",
       " <BarContainer object of 10 artists>)"
      ]
     },
     "execution_count": 90,
     "metadata": {},
     "output_type": "execute_result"
    },
    {
     "data": {
      "image/png": "[encoded data removed]",
      "text/plain": [
       "<Figure size 640x480 with 1 Axes>"
      ]
     },
     "metadata": {},
     "output_type": "display_data"
    }
   ],
   "source": [
    "plt.hist(data['age'])"
   ]
  },
  {
   "attachments": {},
   "cell_type": "markdown",
   "metadata": {},
   "source": [
    "## 11) Make a scatterplot of net worth compared to age\n",
    "\n",
    "It's more fun to do this in Altair as compared to matplotlib, but either is fine."
   ]
  },
  {
   "attachments": {},
   "cell_type": "markdown",
   "metadata": {},
   "source": [
    "plt.scatter(data['age'], data['networthinusbilions'])\n"
   ]
  },
  {
   "cell_type": "code",
   "execution_count": 95,
   "metadata": {},
   "outputs": [
    {
     "data": {
      "text/plain": [
       "<matplotlib.collections.PathCollection at 0x172ab8bb0>"
      ]
     },
     "execution_count": 95,
     "metadata": {},
     "output_type": "execute_result"
    },
    {
     "data": {
      "image/png": "[encoded data removed]",
      "text/plain": [
       "<Figure size 640x480 with 1 Axes>"
      ]
     },
     "metadata": {},
     "output_type": "display_data"
    }
   ],
   "source": [
    "plt.scatter(df['age'], df['networthusbillion'])\n"
   ]
  },
  {
   "attachments": {},
   "cell_type": "markdown",
   "metadata": {},
   "source": [
    "## 13) Make a bar graph of the wealth of the top 10 richest billionaires\n",
    "\n",
    "> **TIP:** When you make your plot, you'll need to set the `x` and `y` or else your chart will look _crazy_\n",
    ">\n",
    "> **TIP:** x and y might be the opposite of what you expect them to be"
   ]
  },
  {
   "cell_type": "code",
   "execution_count": 96,
   "metadata": {},
   "outputs": [
    {
     "data": {
      "text/plain": [
       "<BarContainer object of 10 artists>"
      ]
     },
     "execution_count": 96,
     "metadata": {},
     "output_type": "execute_result"
    },
    {
     "data": {
      "image/png": "[encoded data removed]",
      "text/plain": [
       "<Figure size 640x480 with 1 Axes>"
      ]
     },
     "metadata": {},
     "output_type": "display_data"
    }
   ],
   "source": [
    "sorted_data = df.sort_values('networthusbillion', ascending=False)\n",
    "\n",
    "top_10_richest = sorted_data.head(10)\n",
    "\n",
    "# Create a bar graph of the top 10 richest billionaires\n",
    "plt.bar(top_10_richest['name'], top_10_richest['networthusbillion'])\n"
   ]
  }
 ],
 "metadata": {
  "kernelspec": {
   "display_name": "Python 3 (ipykernel)",
   "language": "python",
   "name": "python3"
  },
  "language_info": {
   "codemirror_mode": {
    "name": "ipython",
    "version": 3
   },
   "file_extension": ".py",
   "mimetype": "text/x-python",
   "name": "python",
   "nbconvert_exporter": "python",
   "pygments_lexer": "ipython3",
   "version": "3.10.11"
  }
 },
 "nbformat": 4,
 "nbformat_minor": 2
}
